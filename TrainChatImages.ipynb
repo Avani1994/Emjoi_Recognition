{
  "nbformat": 4,
  "nbformat_minor": 0,
  "metadata": {
    "colab": {
      "provenance": [],
      "authorship_tag": "ABX9TyP7LeDM383rv/Wo8AFpez/j",
      "include_colab_link": true
    },
    "kernelspec": {
      "name": "python3",
      "display_name": "Python 3"
    },
    "accelerator": "GPU"
  },
  "cells": [
    {
      "cell_type": "markdown",
      "metadata": {
        "id": "view-in-github",
        "colab_type": "text"
      },
      "source": [
        "<a href=\"https://colab.research.google.com/github/Avani1994/Emjoi_Recognition/blob/main/TrainChatImages.ipynb\" target=\"_parent\"><img src=\"https://colab.research.google.com/assets/colab-badge.svg\" alt=\"Open In Colab\"/></a>"
      ]
    },
    {
      "cell_type": "code",
      "metadata": {
        "id": "1kXu9FY-nH38",
        "colab": {
          "base_uri": "https://localhost:8080/",
          "height": 1000
        },
        "outputId": "a88e67b9-3170-4cb9-d972-da4955a76338"
      },
      "source": [
        "!pip3 install -r requirements.txt"
      ],
      "execution_count": null,
      "outputs": [
        {
          "output_type": "stream",
          "text": [
            "Requirement already satisfied: h5py in /usr/local/lib/python3.6/dist-packages (from -r requirements.txt (line 1)) (2.10.0)\n",
            "Collecting tensorflow-gpu==1.8.0\n",
            "\u001b[?25l  Downloading https://files.pythonhosted.org/packages/59/41/ba6ac9b63c5bfb90377784e29c4f4c478c74f53e020fa56237c939674f2d/tensorflow_gpu-1.8.0-cp36-cp36m-manylinux1_x86_64.whl (216.2MB)\n",
            "\u001b[K     |████████████████████████████████| 216.3MB 74kB/s \n",
            "\u001b[?25hCollecting Keras==2.2.0\n",
            "\u001b[?25l  Downloading https://files.pythonhosted.org/packages/68/12/4cabc5c01451eb3b413d19ea151f36e33026fc0efb932bf51bcaf54acbf5/Keras-2.2.0-py2.py3-none-any.whl (300kB)\n",
            "\u001b[K     |████████████████████████████████| 307kB 45.6MB/s \n",
            "\u001b[?25hRequirement already satisfied: numpy in /usr/local/lib/python3.6/dist-packages (from -r requirements.txt (line 4)) (1.18.5)\n",
            "Requirement already satisfied: opencv-python in /usr/local/lib/python3.6/dist-packages (from -r requirements.txt (line 5)) (4.1.2.30)\n",
            "Requirement already satisfied: sklearn in /usr/local/lib/python3.6/dist-packages (from -r requirements.txt (line 6)) (0.0)\n",
            "Requirement already satisfied: six in /usr/local/lib/python3.6/dist-packages (from h5py->-r requirements.txt (line 1)) (1.12.0)\n",
            "Requirement already satisfied: grpcio>=1.8.6 in /usr/local/lib/python3.6/dist-packages (from tensorflow-gpu==1.8.0->-r requirements.txt (line 2)) (1.30.0)\n",
            "Requirement already satisfied: astor>=0.6.0 in /usr/local/lib/python3.6/dist-packages (from tensorflow-gpu==1.8.0->-r requirements.txt (line 2)) (0.8.1)\n",
            "Requirement already satisfied: absl-py>=0.1.6 in /usr/local/lib/python3.6/dist-packages (from tensorflow-gpu==1.8.0->-r requirements.txt (line 2)) (0.9.0)\n",
            "Requirement already satisfied: termcolor>=1.1.0 in /usr/local/lib/python3.6/dist-packages (from tensorflow-gpu==1.8.0->-r requirements.txt (line 2)) (1.1.0)\n",
            "Requirement already satisfied: wheel>=0.26 in /usr/local/lib/python3.6/dist-packages (from tensorflow-gpu==1.8.0->-r requirements.txt (line 2)) (0.34.2)\n",
            "Requirement already satisfied: gast>=0.2.0 in /usr/local/lib/python3.6/dist-packages (from tensorflow-gpu==1.8.0->-r requirements.txt (line 2)) (0.3.3)\n",
            "Requirement already satisfied: protobuf>=3.4.0 in /usr/local/lib/python3.6/dist-packages (from tensorflow-gpu==1.8.0->-r requirements.txt (line 2)) (3.10.0)\n",
            "Collecting tensorboard<1.9.0,>=1.8.0\n",
            "\u001b[?25l  Downloading https://files.pythonhosted.org/packages/59/a6/0ae6092b7542cfedba6b2a1c9b8dceaf278238c39484f3ba03b03f07803c/tensorboard-1.8.0-py3-none-any.whl (3.1MB)\n",
            "\u001b[K     |████████████████████████████████| 3.1MB 48.3MB/s \n",
            "\u001b[?25hCollecting keras-applications==1.0.2\n",
            "\u001b[?25l  Downloading https://files.pythonhosted.org/packages/e2/60/c557075e586e968d7a9c314aa38c236b37cb3ee6b37e8d57152b1a5e0b47/Keras_Applications-1.0.2-py2.py3-none-any.whl (43kB)\n",
            "\u001b[K     |████████████████████████████████| 51kB 6.8MB/s \n",
            "\u001b[?25hRequirement already satisfied: pyyaml in /usr/local/lib/python3.6/dist-packages (from Keras==2.2.0->-r requirements.txt (line 3)) (3.13)\n",
            "Requirement already satisfied: scipy>=0.14 in /usr/local/lib/python3.6/dist-packages (from Keras==2.2.0->-r requirements.txt (line 3)) (1.4.1)\n",
            "Collecting keras-preprocessing==1.0.1\n",
            "  Downloading https://files.pythonhosted.org/packages/f8/33/275506afe1d96b221f66f95adba94d1b73f6b6087cfb6132a5655b6fe338/Keras_Preprocessing-1.0.1-py2.py3-none-any.whl\n",
            "Requirement already satisfied: scikit-learn in /usr/local/lib/python3.6/dist-packages (from sklearn->-r requirements.txt (line 6)) (0.22.2.post1)\n",
            "Requirement already satisfied: setuptools in /usr/local/lib/python3.6/dist-packages (from protobuf>=3.4.0->tensorflow-gpu==1.8.0->-r requirements.txt (line 2)) (47.3.1)\n",
            "Requirement already satisfied: markdown>=2.6.8 in /usr/local/lib/python3.6/dist-packages (from tensorboard<1.9.0,>=1.8.0->tensorflow-gpu==1.8.0->-r requirements.txt (line 2)) (3.2.2)\n",
            "Collecting html5lib==0.9999999\n",
            "\u001b[?25l  Downloading https://files.pythonhosted.org/packages/ae/ae/bcb60402c60932b32dfaf19bb53870b29eda2cd17551ba5639219fb5ebf9/html5lib-0.9999999.tar.gz (889kB)\n",
            "\u001b[K     |████████████████████████████████| 890kB 50.2MB/s \n",
            "\u001b[?25hCollecting bleach==1.5.0\n",
            "  Downloading https://files.pythonhosted.org/packages/33/70/86c5fec937ea4964184d4d6c4f0b9551564f821e1c3575907639036d9b90/bleach-1.5.0-py2.py3-none-any.whl\n",
            "Requirement already satisfied: werkzeug>=0.11.10 in /usr/local/lib/python3.6/dist-packages (from tensorboard<1.9.0,>=1.8.0->tensorflow-gpu==1.8.0->-r requirements.txt (line 2)) (1.0.1)\n",
            "Requirement already satisfied: joblib>=0.11 in /usr/local/lib/python3.6/dist-packages (from scikit-learn->sklearn->-r requirements.txt (line 6)) (0.15.1)\n",
            "Requirement already satisfied: importlib-metadata; python_version < \"3.8\" in /usr/local/lib/python3.6/dist-packages (from markdown>=2.6.8->tensorboard<1.9.0,>=1.8.0->tensorflow-gpu==1.8.0->-r requirements.txt (line 2)) (1.6.1)\n",
            "Requirement already satisfied: zipp>=0.5 in /usr/local/lib/python3.6/dist-packages (from importlib-metadata; python_version < \"3.8\"->markdown>=2.6.8->tensorboard<1.9.0,>=1.8.0->tensorflow-gpu==1.8.0->-r requirements.txt (line 2)) (3.1.0)\n",
            "Building wheels for collected packages: html5lib\n",
            "  Building wheel for html5lib (setup.py) ... \u001b[?25l\u001b[?25hdone\n",
            "  Created wheel for html5lib: filename=html5lib-0.9999999-cp36-none-any.whl size=107220 sha256=3a9bc98a1875dcec92ad1c7329e40996592858666c3c1cb1382a42e21f39d1b5\n",
            "  Stored in directory: /root/.cache/pip/wheels/50/ae/f9/d2b189788efcf61d1ee0e36045476735c838898eef1cad6e29\n",
            "Successfully built html5lib\n",
            "\u001b[31mERROR: tensorflow 2.2.0 has requirement keras-preprocessing>=1.1.0, but you'll have keras-preprocessing 1.0.1 which is incompatible.\u001b[0m\n",
            "\u001b[31mERROR: tensorflow 2.2.0 has requirement tensorboard<2.3.0,>=2.2.0, but you'll have tensorboard 1.8.0 which is incompatible.\u001b[0m\n",
            "Installing collected packages: html5lib, bleach, tensorboard, tensorflow-gpu, keras-applications, keras-preprocessing, Keras\n",
            "  Found existing installation: html5lib 1.0.1\n",
            "    Uninstalling html5lib-1.0.1:\n",
            "      Successfully uninstalled html5lib-1.0.1\n",
            "  Found existing installation: bleach 3.1.5\n",
            "    Uninstalling bleach-3.1.5:\n",
            "      Successfully uninstalled bleach-3.1.5\n",
            "  Found existing installation: tensorboard 2.2.2\n",
            "    Uninstalling tensorboard-2.2.2:\n",
            "      Successfully uninstalled tensorboard-2.2.2\n",
            "  Found existing installation: Keras-Applications 1.0.8\n",
            "    Uninstalling Keras-Applications-1.0.8:\n",
            "      Successfully uninstalled Keras-Applications-1.0.8\n",
            "  Found existing installation: Keras-Preprocessing 1.1.2\n",
            "    Uninstalling Keras-Preprocessing-1.1.2:\n",
            "      Successfully uninstalled Keras-Preprocessing-1.1.2\n",
            "  Found existing installation: Keras 2.3.1\n",
            "    Uninstalling Keras-2.3.1:\n",
            "      Successfully uninstalled Keras-2.3.1\n",
            "Successfully installed Keras-2.2.0 bleach-1.5.0 html5lib-0.9999999 keras-applications-1.0.2 keras-preprocessing-1.0.1 tensorboard-1.8.0 tensorflow-gpu-1.8.0\n"
          ],
          "name": "stdout"
        },
        {
          "output_type": "display_data",
          "data": {
            "application/vnd.colab-display-data+json": {
              "pip_warning": {
                "packages": [
                  "keras_preprocessing",
                  "tensorboard",
                  "tensorflow"
                ]
              }
            }
          },
          "metadata": {
            "tags": []
          }
        }
      ]
    },
    {
      "cell_type": "code",
      "metadata": {
        "id": "hFCo5no1DvF7"
      },
      "source": [
        "!export LD_LIBRARY_PATH=$LD_LIBRARY_PATH:/usr/local/cuda/extras/CUPTI/lib64"
      ],
      "execution_count": null,
      "outputs": []
    },
    {
      "cell_type": "code",
      "metadata": {
        "id": "Xgy5Os-RKioZ"
      },
      "source": [
        "!unzip ChatImageDataTest.zip -d ChatImageDataTest"
      ],
      "execution_count": null,
      "outputs": []
    },
    {
      "cell_type": "code",
      "metadata": {
        "id": "CagKCG_iKy2q"
      },
      "source": [
        "!unzip ChatImageDataTrain.zip -d ChatImageDataTrain"
      ],
      "execution_count": null,
      "outputs": []
    },
    {
      "cell_type": "code",
      "metadata": {
        "id": "3RhBvlD4b5gr",
        "colab": {
          "base_uri": "https://localhost:8080/",
          "height": 102
        },
        "outputId": "6194c9a6-23b0-4bf8-8a33-f6f36050240c"
      },
      "source": [
        "!git clone https://github.com/kbardool/keras-frcnn.git"
      ],
      "execution_count": null,
      "outputs": [
        {
          "output_type": "stream",
          "text": [
            "Cloning into 'keras-frcnn'...\n",
            "remote: Enumerating objects: 589, done.\u001b[K\n",
            "remote: Total 589 (delta 0), reused 0 (delta 0), pack-reused 589\u001b[K\n",
            "Receiving objects: 100% (589/589), 173.38 KiB | 332.00 KiB/s, done.\n",
            "Resolving deltas: 100% (402/402), done.\n"
          ],
          "name": "stdout"
        }
      ]
    },
    {
      "cell_type": "code",
      "metadata": {
        "id": "07qWEwgs3ZbS",
        "colab": {
          "base_uri": "https://localhost:8080/",
          "height": 35
        },
        "outputId": "5d4b4b1c-4dd8-44a1-a64f-c9331d4725fe"
      },
      "source": [
        "import tensorflow as tf\n",
        "tf.test.gpu_device_name()"
      ],
      "execution_count": null,
      "outputs": [
        {
          "output_type": "execute_result",
          "data": {
            "application/vnd.google.colaboratory.intrinsic": {
              "type": "string"
            },
            "text/plain": [
              "'/device:GPU:0'"
            ]
          },
          "metadata": {
            "tags": []
          },
          "execution_count": 22
        }
      ]
    },
    {
      "cell_type": "code",
      "metadata": {
        "id": "u40YFi8DudIN",
        "colab": {
          "base_uri": "https://localhost:8080/",
          "height": 204
        },
        "outputId": "0f8baacb-db25-4143-e904-61e93887d671"
      },
      "source": [
        "# importing required libraries\n",
        "\n",
        "import pandas as pd\n",
        "import matplotlib.pyplot as plt\n",
        "%matplotlib inline\n",
        "from matplotlib import patches\n",
        "from ast import literal_eval\n",
        "\n",
        "# read the csv file using read_csv function of pandas\n",
        "train = pd.read_csv(\"outputTrain.csv\")\n",
        "test = pd.read_csv(\"outputTest.csv\")\n",
        "train.head()"
      ],
      "execution_count": null,
      "outputs": [
        {
          "output_type": "execute_result",
          "data": {
            "text/html": [
              "<div>\n",
              "<style scoped>\n",
              "    .dataframe tbody tr th:only-of-type {\n",
              "        vertical-align: middle;\n",
              "    }\n",
              "\n",
              "    .dataframe tbody tr th {\n",
              "        vertical-align: top;\n",
              "    }\n",
              "\n",
              "    .dataframe thead th {\n",
              "        text-align: right;\n",
              "    }\n",
              "</style>\n",
              "<table border=\"1\" class=\"dataframe\">\n",
              "  <thead>\n",
              "    <tr style=\"text-align: right;\">\n",
              "      <th></th>\n",
              "      <th>id</th>\n",
              "      <th>boxes</th>\n",
              "      <th>char</th>\n",
              "    </tr>\n",
              "  </thead>\n",
              "  <tbody>\n",
              "    <tr>\n",
              "      <th>0</th>\n",
              "      <td>image0</td>\n",
              "      <td>[454, 164, 478, 188]</td>\n",
              "      <td>😝</td>\n",
              "    </tr>\n",
              "    <tr>\n",
              "      <th>1</th>\n",
              "      <td>image0</td>\n",
              "      <td>[479, 164, 503, 188]</td>\n",
              "      <td>😦</td>\n",
              "    </tr>\n",
              "    <tr>\n",
              "      <th>2</th>\n",
              "      <td>image0</td>\n",
              "      <td>[568, 178, 592, 193]</td>\n",
              "      <td>NaN</td>\n",
              "    </tr>\n",
              "    <tr>\n",
              "      <th>3</th>\n",
              "      <td>image0</td>\n",
              "      <td>[221, 213, 245, 237]</td>\n",
              "      <td>😬</td>\n",
              "    </tr>\n",
              "    <tr>\n",
              "      <th>4</th>\n",
              "      <td>image0</td>\n",
              "      <td>[246, 213, 270, 237]</td>\n",
              "      <td>☹</td>\n",
              "    </tr>\n",
              "  </tbody>\n",
              "</table>\n",
              "</div>"
            ],
            "text/plain": [
              "       id                 boxes char\n",
              "0  image0  [454, 164, 478, 188]    😝\n",
              "1  image0  [479, 164, 503, 188]    😦\n",
              "2  image0  [568, 178, 592, 193]  NaN\n",
              "3  image0  [221, 213, 245, 237]    😬\n",
              "4  image0  [246, 213, 270, 237]    ☹"
            ]
          },
          "metadata": {
            "tags": []
          },
          "execution_count": 12
        }
      ]
    },
    {
      "cell_type": "code",
      "metadata": {
        "id": "Wxm2m5Tnv5ca"
      },
      "source": [
        "train['char'] = train['char'].fillna(\"bluetick\")\n",
        "train['id'] = 'ChatImageDataTrain/ChatImageDataTrain/'+train['id']+'.png'\n",
        "train['xmin'] = train['boxes'].apply(lambda x:literal_eval(x)[0])\n",
        "train['ymin'] = train['boxes'].apply(lambda x:literal_eval(x)[1])\n",
        "train['xmax'] = train['boxes'].apply(lambda x:literal_eval(x)[2])\n",
        "train['ymax'] = train['boxes'].apply(lambda x:literal_eval(x)[3])\n",
        "train.drop(['boxes'],axis=1,inplace=True)"
      ],
      "execution_count": null,
      "outputs": []
    },
    {
      "cell_type": "code",
      "metadata": {
        "id": "j-DZqCbzxdG5"
      },
      "source": [
        "test['char'] = test['char'].fillna(\"bluetick\")\n",
        "test['id'] = 'ChatImageDataTest/ChatImageDataTest/'+test['id']+'.png'\n",
        "test['xmin'] = test['boxes'].apply(lambda x:literal_eval(x)[0])\n",
        "test['ymin'] = test['boxes'].apply(lambda x:literal_eval(x)[1])\n",
        "test['xmax'] = test['boxes'].apply(lambda x:literal_eval(x)[2])\n",
        "test['ymax'] = test['boxes'].apply(lambda x:literal_eval(x)[3])\n",
        "test.drop(['boxes'],axis=1,inplace=True)"
      ],
      "execution_count": null,
      "outputs": []
    },
    {
      "cell_type": "code",
      "metadata": {
        "id": "Kbu3GWk3w-X9",
        "colab": {
          "base_uri": "https://localhost:8080/",
          "height": 204
        },
        "outputId": "c30627d1-01f6-490e-ceb5-8995f1bb1238"
      },
      "source": [
        "train.head()"
      ],
      "execution_count": null,
      "outputs": [
        {
          "output_type": "execute_result",
          "data": {
            "text/html": [
              "<div>\n",
              "<style scoped>\n",
              "    .dataframe tbody tr th:only-of-type {\n",
              "        vertical-align: middle;\n",
              "    }\n",
              "\n",
              "    .dataframe tbody tr th {\n",
              "        vertical-align: top;\n",
              "    }\n",
              "\n",
              "    .dataframe thead th {\n",
              "        text-align: right;\n",
              "    }\n",
              "</style>\n",
              "<table border=\"1\" class=\"dataframe\">\n",
              "  <thead>\n",
              "    <tr style=\"text-align: right;\">\n",
              "      <th></th>\n",
              "      <th>id</th>\n",
              "      <th>char</th>\n",
              "      <th>xmin</th>\n",
              "      <th>ymin</th>\n",
              "      <th>xmax</th>\n",
              "      <th>ymax</th>\n",
              "    </tr>\n",
              "  </thead>\n",
              "  <tbody>\n",
              "    <tr>\n",
              "      <th>0</th>\n",
              "      <td>ChatImageDataTrain/ChatImageDataTrain/image0.png</td>\n",
              "      <td>😝</td>\n",
              "      <td>454</td>\n",
              "      <td>164</td>\n",
              "      <td>478</td>\n",
              "      <td>188</td>\n",
              "    </tr>\n",
              "    <tr>\n",
              "      <th>1</th>\n",
              "      <td>ChatImageDataTrain/ChatImageDataTrain/image0.png</td>\n",
              "      <td>😦</td>\n",
              "      <td>479</td>\n",
              "      <td>164</td>\n",
              "      <td>503</td>\n",
              "      <td>188</td>\n",
              "    </tr>\n",
              "    <tr>\n",
              "      <th>2</th>\n",
              "      <td>ChatImageDataTrain/ChatImageDataTrain/image0.png</td>\n",
              "      <td>bluetick</td>\n",
              "      <td>568</td>\n",
              "      <td>178</td>\n",
              "      <td>592</td>\n",
              "      <td>193</td>\n",
              "    </tr>\n",
              "    <tr>\n",
              "      <th>3</th>\n",
              "      <td>ChatImageDataTrain/ChatImageDataTrain/image0.png</td>\n",
              "      <td>😬</td>\n",
              "      <td>221</td>\n",
              "      <td>213</td>\n",
              "      <td>245</td>\n",
              "      <td>237</td>\n",
              "    </tr>\n",
              "    <tr>\n",
              "      <th>4</th>\n",
              "      <td>ChatImageDataTrain/ChatImageDataTrain/image0.png</td>\n",
              "      <td>☹</td>\n",
              "      <td>246</td>\n",
              "      <td>213</td>\n",
              "      <td>270</td>\n",
              "      <td>237</td>\n",
              "    </tr>\n",
              "  </tbody>\n",
              "</table>\n",
              "</div>"
            ],
            "text/plain": [
              "                                                 id      char  ...  xmax  ymax\n",
              "0  ChatImageDataTrain/ChatImageDataTrain/image0.png         😝  ...   478   188\n",
              "1  ChatImageDataTrain/ChatImageDataTrain/image0.png         😦  ...   503   188\n",
              "2  ChatImageDataTrain/ChatImageDataTrain/image0.png  bluetick  ...   592   193\n",
              "3  ChatImageDataTrain/ChatImageDataTrain/image0.png         😬  ...   245   237\n",
              "4  ChatImageDataTrain/ChatImageDataTrain/image0.png         ☹  ...   270   237\n",
              "\n",
              "[5 rows x 6 columns]"
            ]
          },
          "metadata": {
            "tags": []
          },
          "execution_count": 15
        }
      ]
    },
    {
      "cell_type": "code",
      "metadata": {
        "id": "8MV-TlmMxFwP",
        "colab": {
          "base_uri": "https://localhost:8080/",
          "height": 204
        },
        "outputId": "1dc60f47-ba6e-4e66-8eb8-320f4a160adf"
      },
      "source": [
        "test.head()"
      ],
      "execution_count": null,
      "outputs": [
        {
          "output_type": "execute_result",
          "data": {
            "text/html": [
              "<div>\n",
              "<style scoped>\n",
              "    .dataframe tbody tr th:only-of-type {\n",
              "        vertical-align: middle;\n",
              "    }\n",
              "\n",
              "    .dataframe tbody tr th {\n",
              "        vertical-align: top;\n",
              "    }\n",
              "\n",
              "    .dataframe thead th {\n",
              "        text-align: right;\n",
              "    }\n",
              "</style>\n",
              "<table border=\"1\" class=\"dataframe\">\n",
              "  <thead>\n",
              "    <tr style=\"text-align: right;\">\n",
              "      <th></th>\n",
              "      <th>id</th>\n",
              "      <th>char</th>\n",
              "      <th>xmin</th>\n",
              "      <th>ymin</th>\n",
              "      <th>xmax</th>\n",
              "      <th>ymax</th>\n",
              "    </tr>\n",
              "  </thead>\n",
              "  <tbody>\n",
              "    <tr>\n",
              "      <th>0</th>\n",
              "      <td>ChatImageDataTest/ChatImageDataTest/image1301.png</td>\n",
              "      <td>😒</td>\n",
              "      <td>463</td>\n",
              "      <td>146</td>\n",
              "      <td>487</td>\n",
              "      <td>170</td>\n",
              "    </tr>\n",
              "    <tr>\n",
              "      <th>1</th>\n",
              "      <td>ChatImageDataTest/ChatImageDataTest/image1301.png</td>\n",
              "      <td>😊</td>\n",
              "      <td>488</td>\n",
              "      <td>146</td>\n",
              "      <td>512</td>\n",
              "      <td>170</td>\n",
              "    </tr>\n",
              "    <tr>\n",
              "      <th>2</th>\n",
              "      <td>ChatImageDataTest/ChatImageDataTest/image1301.png</td>\n",
              "      <td>🤕</td>\n",
              "      <td>513</td>\n",
              "      <td>146</td>\n",
              "      <td>537</td>\n",
              "      <td>170</td>\n",
              "    </tr>\n",
              "    <tr>\n",
              "      <th>3</th>\n",
              "      <td>ChatImageDataTest/ChatImageDataTest/image1301.png</td>\n",
              "      <td>😟</td>\n",
              "      <td>538</td>\n",
              "      <td>146</td>\n",
              "      <td>562</td>\n",
              "      <td>170</td>\n",
              "    </tr>\n",
              "    <tr>\n",
              "      <th>4</th>\n",
              "      <td>ChatImageDataTest/ChatImageDataTest/image1301.png</td>\n",
              "      <td>bluetick</td>\n",
              "      <td>568</td>\n",
              "      <td>160</td>\n",
              "      <td>592</td>\n",
              "      <td>175</td>\n",
              "    </tr>\n",
              "  </tbody>\n",
              "</table>\n",
              "</div>"
            ],
            "text/plain": [
              "                                                  id      char  ...  xmax  ymax\n",
              "0  ChatImageDataTest/ChatImageDataTest/image1301.png         😒  ...   487   170\n",
              "1  ChatImageDataTest/ChatImageDataTest/image1301.png         😊  ...   512   170\n",
              "2  ChatImageDataTest/ChatImageDataTest/image1301.png         🤕  ...   537   170\n",
              "3  ChatImageDataTest/ChatImageDataTest/image1301.png         😟  ...   562   170\n",
              "4  ChatImageDataTest/ChatImageDataTest/image1301.png  bluetick  ...   592   175\n",
              "\n",
              "[5 rows x 6 columns]"
            ]
          },
          "metadata": {
            "tags": []
          },
          "execution_count": 16
        }
      ]
    },
    {
      "cell_type": "code",
      "metadata": {
        "id": "PxvlhuUxVJiv"
      },
      "source": [
        "data = pd.DataFrame()\n",
        "data['format'] = train['id']\n",
        "\n",
        "# as the images are in train_images folder, add train_images before the image name\n",
        "#for i in range(data.shape[0]):\n",
        "#    data['format'][i] = 'train_images/' + data['format'][i]\n",
        "\n",
        "# add xmin, ymin, xmax, ymax and class as per the format required\n",
        "for i in range(data.shape[0]):\n",
        "    data['format'][i] = data['format'][i] + ',' + str(train['xmin'][i]) + ',' + str(train['ymin'][i]) + ',' + str(train['xmax'][i]) + ',' + str(train['ymax'][i]) + ',' + train['char'][i]\n",
        "\n",
        "data.to_csv('annotate.txt', header=None, index=None, sep=' ')"
      ],
      "execution_count": null,
      "outputs": []
    },
    {
      "cell_type": "code",
      "metadata": {
        "id": "5vIbQqH0HoOd"
      },
      "source": [
        "from tensorflow.python.framework import ops\n",
        "ops.reset_default_graph()"
      ],
      "execution_count": null,
      "outputs": []
    },
    {
      "cell_type": "code",
      "metadata": {
        "id": "PxwZ1I6pZIjJ",
        "colab": {
          "base_uri": "https://localhost:8080/",
          "height": 972
        },
        "outputId": "2d9ef671-ef13-4b36-b102-8e05f440a8d8"
      },
      "source": [
        "!python keras-frcnn/train_frcnn.py -o simple --num_epochs 500 -p annotate.txt"
      ],
      "execution_count": null,
      "outputs": [
        {
          "output_type": "stream",
          "text": [
            "Using TensorFlow backend.\n",
            "Traceback (most recent call last):\n",
            "  File \"/usr/local/lib/python3.6/dist-packages/tensorflow/python/pywrap_tensorflow.py\", line 58, in <module>\n",
            "    from tensorflow.python.pywrap_tensorflow_internal import *\n",
            "  File \"/usr/local/lib/python3.6/dist-packages/tensorflow/python/pywrap_tensorflow_internal.py\", line 28, in <module>\n",
            "    _pywrap_tensorflow_internal = swig_import_helper()\n",
            "  File \"/usr/local/lib/python3.6/dist-packages/tensorflow/python/pywrap_tensorflow_internal.py\", line 24, in swig_import_helper\n",
            "    _mod = imp.load_module('_pywrap_tensorflow_internal', fp, pathname, description)\n",
            "  File \"/usr/lib/python3.6/imp.py\", line 243, in load_module\n",
            "    return load_dynamic(name, filename, file)\n",
            "  File \"/usr/lib/python3.6/imp.py\", line 343, in load_dynamic\n",
            "    return _load(spec)\n",
            "ImportError: libcublas.so.9.0: cannot open shared object file: No such file or directory\n",
            "\n",
            "During handling of the above exception, another exception occurred:\n",
            "\n",
            "Traceback (most recent call last):\n",
            "  File \"keras-frcnn/train_frcnn.py\", line 10, in <module>\n",
            "    from keras import backend as K\n",
            "  File \"/usr/local/lib/python3.6/dist-packages/keras/__init__.py\", line 3, in <module>\n",
            "    from . import utils\n",
            "  File \"/usr/local/lib/python3.6/dist-packages/keras/utils/__init__.py\", line 6, in <module>\n",
            "    from . import conv_utils\n",
            "  File \"/usr/local/lib/python3.6/dist-packages/keras/utils/conv_utils.py\", line 9, in <module>\n",
            "    from .. import backend as K\n",
            "  File \"/usr/local/lib/python3.6/dist-packages/keras/backend/__init__.py\", line 87, in <module>\n",
            "    from .tensorflow_backend import *\n",
            "  File \"/usr/local/lib/python3.6/dist-packages/keras/backend/tensorflow_backend.py\", line 5, in <module>\n",
            "    import tensorflow as tf\n",
            "  File \"/usr/local/lib/python3.6/dist-packages/tensorflow/__init__.py\", line 24, in <module>\n",
            "    from tensorflow.python import pywrap_tensorflow  # pylint: disable=unused-import\n",
            "  File \"/usr/local/lib/python3.6/dist-packages/tensorflow/python/__init__.py\", line 49, in <module>\n",
            "    from tensorflow.python import pywrap_tensorflow\n",
            "  File \"/usr/local/lib/python3.6/dist-packages/tensorflow/python/pywrap_tensorflow.py\", line 74, in <module>\n",
            "    raise ImportError(msg)\n",
            "ImportError: Traceback (most recent call last):\n",
            "  File \"/usr/local/lib/python3.6/dist-packages/tensorflow/python/pywrap_tensorflow.py\", line 58, in <module>\n",
            "    from tensorflow.python.pywrap_tensorflow_internal import *\n",
            "  File \"/usr/local/lib/python3.6/dist-packages/tensorflow/python/pywrap_tensorflow_internal.py\", line 28, in <module>\n",
            "    _pywrap_tensorflow_internal = swig_import_helper()\n",
            "  File \"/usr/local/lib/python3.6/dist-packages/tensorflow/python/pywrap_tensorflow_internal.py\", line 24, in swig_import_helper\n",
            "    _mod = imp.load_module('_pywrap_tensorflow_internal', fp, pathname, description)\n",
            "  File \"/usr/lib/python3.6/imp.py\", line 243, in load_module\n",
            "    return load_dynamic(name, filename, file)\n",
            "  File \"/usr/lib/python3.6/imp.py\", line 343, in load_dynamic\n",
            "    return _load(spec)\n",
            "ImportError: libcublas.so.9.0: cannot open shared object file: No such file or directory\n",
            "\n",
            "\n",
            "Failed to load the native TensorFlow runtime.\n",
            "\n",
            "See https://www.tensorflow.org/install/install_sources#common_installation_problems\n",
            "\n",
            "for some common reasons and solutions.  Include the entire stack trace\n",
            "above this error message when asking for help.\n"
          ],
          "name": "stdout"
        }
      ]
    },
    {
      "cell_type": "code",
      "metadata": {
        "id": "5LtZmbjiKBxX",
        "colab": {
          "base_uri": "https://localhost:8080/",
          "height": 34
        },
        "outputId": "1cd09233-29aa-4bbb-a1f4-cd5780760467"
      },
      "source": [
        "!cat /usr/local/cuda/version.txt"
      ],
      "execution_count": null,
      "outputs": [
        {
          "output_type": "stream",
          "text": [
            "CUDA Version 10.1.243\n"
          ],
          "name": "stdout"
        }
      ]
    },
    {
      "cell_type": "code",
      "metadata": {
        "id": "TcaPXbyPj9XY",
        "colab": {
          "base_uri": "https://localhost:8080/",
          "height": 34
        },
        "outputId": "ab1f3c1e-3890-4c7e-d954-c8b49ec628c4"
      },
      "source": [
        "!grep CUDNN_MAJOR -A 2 /usr/local/cuda/include/cudnn.h"
      ],
      "execution_count": null,
      "outputs": [
        {
          "output_type": "stream",
          "text": [
            "grep: /usr/local/cuda/include/cudnn.h: No such file or directory\n"
          ],
          "name": "stdout"
        }
      ]
    }
  ]
}